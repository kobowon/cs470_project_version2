{
 "cells": [
  {
   "cell_type": "code",
   "execution_count": 6,
   "metadata": {},
   "outputs": [
    {
     "name": "stdout",
     "output_type": "stream",
     "text": [
      "3\n",
      "range(3, 5)\n"
     ]
    }
   ],
   "source": [
    "a = 3\n",
    "\n",
    "if a in range(3,5):\n",
    "    print(a)\n",
    "    print(range(3,5))"
   ]
  },
  {
   "cell_type": "code",
   "execution_count": 22,
   "metadata": {},
   "outputs": [],
   "source": [
    "import matplotlib.pyplot as plt\n",
    "import numpy as np"
   ]
  },
  {
   "cell_type": "code",
   "execution_count": 57,
   "metadata": {},
   "outputs": [
    {
     "data": {
      "image/png": "[encoded data removed]",
      "text/plain": [
       "<Figure size 432x288 with 1 Axes>"
      ]
     },
     "metadata": {
      "needs_background": "light"
     },
     "output_type": "display_data"
    }
   ],
   "source": [
    "x = [0,1,2,3,4,5,6,7,8,9,10,'all']\n",
    "\n",
    "yp = [90.23,90.69,89.72,89.23,88.37,88.41,87.07,86.04,86.61,86.05,85.57,81.22] \n",
    "\n",
    "y =  [90.31,90.19,89.12,88.97,88.85,87.52,87.17,86.12,85.99,86.05,86.04,83.05]\n",
    "\n",
    "\n",
    "plt.plot(x,y,'b^',label = 'not freeze pooler')\n",
    "#plt.plot(x,y,'b')\n",
    "plt.plot(x,yp,'rs',label='freeze pooler')\n",
    "#plt.plot(x,yp,'r')\n",
    "\n",
    "\n",
    "plt.title('Layer Freeze Performance')\n",
    "plt.xlabel('Layer')\n",
    "plt.ylabel('F1 score')\n",
    "\n",
    "plt.legend()\n",
    "\n",
    "plt.grid(True)\n",
    "\n",
    "plt.show()"
   ]
  },
  {
   "cell_type": "code",
   "execution_count": 9,
   "metadata": {},
   "outputs": [],
   "source": []
  },
  {
   "cell_type": "code",
   "execution_count": null,
   "metadata": {},
   "outputs": [],
   "source": []
  }
 ],
 "metadata": {
  "kernelspec": {
   "display_name": "Python 3",
   "language": "python",
   "name": "python3"
  },
  "language_info": {
   "codemirror_mode": {
    "name": "ipython",
    "version": 3
   },
   "file_extension": ".py",
   "mimetype": "text/x-python",
   "name": "python",
   "nbconvert_exporter": "python",
   "pygments_lexer": "ipython3",
   "version": "3.6.8"
  }
 },
 "nbformat": 4,
 "nbformat_minor": 4
}
